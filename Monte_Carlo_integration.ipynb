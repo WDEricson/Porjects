{
  "nbformat": 4,
  "nbformat_minor": 0,
  "metadata": {
    "colab": {
      "provenance": [],
      "authorship_tag": "ABX9TyOptBda8NEDZg57fQCevnZc",
      "include_colab_link": true
    },
    "kernelspec": {
      "name": "python3",
      "display_name": "Python 3"
    }
  },
  "cells": [
    {
      "cell_type": "markdown",
      "metadata": {
        "id": "view-in-github",
        "colab_type": "text"
      },
      "source": [
        "<a href=\"https://colab.research.google.com/github/WDEricson/Projects/blob/main/Monte_Carlo_integration.ipynb\" target=\"_parent\"><img src=\"https://colab.research.google.com/assets/colab-badge.svg\" alt=\"Open In Colab\"/></a>"
      ]
    },
    {
      "cell_type": "code",
      "metadata": {
        "colab": {
          "base_uri": "https://localhost:8080/"
        },
        "id": "9I22rwG3Wa2h",
        "outputId": "d9828c37-8881-4c1e-d20d-4f254290087e"
      },
      "source": [
        "#Shape_1\n",
        "import random\n",
        "#define the parameters\n",
        "n=1000\n",
        "b=0\n",
        "#generate the first random value of the ordered pair\n",
        "for x in range(n):\n",
        "  x = random.random()\n",
        "#generate the second random value of the ordered pair\n",
        "  for y in range(n):\n",
        "    y = random.random()\n",
        "#Use the shape guidelines to determine wheather the \"dart\" thrown lands within the shape\n",
        "  if x>=0 and x<=0.5 and y<=1 and y>=0:\n",
        "#if the dart did hit the sharo then add 1 to the tally of \"hits\"\n",
        "    b+=1\n",
        "#calculate the area of the shape by dividing the the number of hits by the number of throws\n",
        "#normally you would then multiply by the area of the wall, but in this case\n",
        "#the wall has an area of 1, so I did not include the wall area.\n",
        "print(\"Area = \", b/n)\n",
        "\n",
        "#pseudocode:\n",
        "#1.import random\n",
        "#2.set parameters to signify the amount of time you want to throw the dart\n",
        "#3.generate random ordered pairs within the dimensions of the wall\n",
        "#This will act as darts randomly being thrown\n",
        "#4.set the conditions for the shape of the board\n",
        "#In this case the board is just half of the wall\n",
        "#5.create a counting system to record the number of time a dart hits the shape\n",
        "#6.insert the equation: Area = hits/thows, to estimate the area of the shape\n",
        "\n"
      ],
      "execution_count": 2,
      "outputs": [
        {
          "output_type": "stream",
          "name": "stdout",
          "text": [
            "Area =  0.471\n"
          ]
        }
      ]
    },
    {
      "cell_type": "code",
      "metadata": {
        "colab": {
          "base_uri": "https://localhost:8080/"
        },
        "id": "NiTaEuP6W4WG",
        "outputId": "603e460e-ec39-4f73-b7f5-6ec16e4bcc4e"
      },
      "source": [
        "#Shape_2\n",
        "import random\n",
        "#define the parameters\n",
        "n=1000\n",
        "b=0\n",
        "#generate the first random value of the ordered pair\n",
        "for x in range(n):\n",
        "  x = random.random()\n",
        "#generate the second random value of the ordered pair\n",
        "  for y in range(n):\n",
        "    y = random.random()\n",
        "#Use the shape guidelines to determine wheather the \"dart\" thrown lands within the shape\n",
        "  if x>=0 and x<=0.5 and y<=0.5 and y>=0:\n",
        "#if the dart did hit the sharo then add 1 to the tally of \"hits\"\n",
        "    b+=1\n",
        "#calculate the area of the shape by dividing the the number of hits by the number of throws\n",
        "#normally you would then multiply by the area of the wall, but in this case\n",
        "#the wall has an area of 1, so I did not include the wall area.\n",
        "print(\"Area = \", b/n)\n",
        "\n",
        "#pseudocode:\n",
        "#1.import random\n",
        "#2.set parameters to signify the amount of time you want to throw the dart\n",
        "#3.generate random ordered pairs within the dimensions of the wall\n",
        "#This will act as darts randomly being thrown\n",
        "#4.set the conditions for the shape of the board\n",
        "#In this case the board is a quarter of the wall\n",
        "#5.create a counting system to record the number of time a dart hits the shape\n",
        "#6.insert the equation: Area = hits/thows, to estimate the area of the shape"
      ],
      "execution_count": 4,
      "outputs": [
        {
          "output_type": "stream",
          "name": "stdout",
          "text": [
            "Area =  0.242\n"
          ]
        }
      ]
    },
    {
      "cell_type": "code",
      "metadata": {
        "colab": {
          "base_uri": "https://localhost:8080/"
        },
        "id": "HYTA38mpW-mf",
        "outputId": "bacb017e-911a-46fa-f29f-06bf31459491"
      },
      "source": [
        "#Shape_3\n",
        "import random\n",
        "#define the parameters\n",
        "n=1000\n",
        "b=0\n",
        "#generate the first random value of the ordered pair\n",
        "for x in range(n):\n",
        "  x = random.random()\n",
        "#generate the second random value of the ordered pair\n",
        "  for y in range(n):\n",
        "    y = random.random()\n",
        "#Use the shape guidelines to determine wheather the \"dart\" thrown lands within the shape\n",
        "  if (x**2)+(y**2)<=1:\n",
        "#if the dart did hit the sharo then add 1 to the tally of \"hits\"\n",
        "    b+=1\n",
        "#calculate the area of the shape by dividing the the number of hits by the number of throws\n",
        "#normally you would then multiply by the area of the wall, but in this case\n",
        "#the wall has an area of 1, so I did not include the wall area.\n",
        "print(\"Area = \", b/n)\n",
        "\n",
        "#pseudocode:\n",
        "#1.import random\n",
        "#2.set parameters to signify the amount of time you want to throw the dart\n",
        "#3.generate random ordered pairs within the dimensions of the wall\n",
        "#This will act as darts randomly being thrown\n",
        "#4.set the conditions for the shape of the board\n",
        "#the board is a quarter circle centered at the lower left hand corner of the wall\n",
        "#5.create a counting system to record the number of time a dart hits the shape\n",
        "#6.insert the equation: Area = hits/thows, to estimate the area of the shape"
      ],
      "execution_count": 5,
      "outputs": [
        {
          "output_type": "stream",
          "name": "stdout",
          "text": [
            "Area =  0.777\n"
          ]
        }
      ]
    },
    {
      "cell_type": "code",
      "metadata": {
        "colab": {
          "base_uri": "https://localhost:8080/"
        },
        "id": "7ive1qKBW-un",
        "outputId": "cfa7876b-60df-4f78-f61e-88de5d20e0c0"
      },
      "source": [
        "#Shape_4\n",
        "#import both math and random, for the throwing the dart and calculating the cosh function\n",
        "import random\n",
        "import math\n",
        "#define the parameters\n",
        "n=1000\n",
        "b=0\n",
        "#generate the first random value of the ordered pair\n",
        "for x in range(n):\n",
        "  x = random.random()\n",
        "#generate the second random value of the ordered pair\n",
        "  for y in range(n):\n",
        "    y = random.random()\n",
        "#Use the shape guidelines to determine wheather the \"dart\" thrown lands within the shape\n",
        "  if y<=(math.cosh(-1)-math.cosh(2*x-1))/(math.cosh(-1)-1):\n",
        "#if the dart did hit the sharo then add 1 to the tally of \"hits\"\n",
        "    b+=1\n",
        "#calculate the area of the shape by dividing the the number of hits by the number of throws\n",
        "#normally you would then multiply by the area of the wall, but in this case\n",
        "#the wall has an area of 1, so I did not include the wall area.\n",
        "print(\"Area = \", b/n)\n",
        "\n",
        "#pseudocode:\n",
        "#1.import random and math\n",
        "#2.set parameters to signify the amount of time you want to throw the dart\n",
        "#3.generate random ordered pairs within the dimensions of the wall\n",
        "#This will act as darts randomly being thrown\n",
        "#4.set the conditions for the shape of the board\n",
        "#5.create a counting system to record the number of time a dart hits the shape\n",
        "#6.insert the equation: Area = hits/thows, to estimate the area of the shape"
      ],
      "execution_count": 6,
      "outputs": [
        {
          "output_type": "stream",
          "name": "stdout",
          "text": [
            "Area =  0.67\n"
          ]
        }
      ]
    }
  ]
}