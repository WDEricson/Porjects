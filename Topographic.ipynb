{
  "nbformat": 4,
  "nbformat_minor": 0,
  "metadata": {
    "colab": {
      "provenance": [],
      "authorship_tag": "ABX9TyN5m4H0TXzG9u+zqDDzfasI",
      "include_colab_link": true
    },
    "kernelspec": {
      "name": "python3",
      "display_name": "Python 3"
    }
  },
  "cells": [
    {
      "cell_type": "markdown",
      "metadata": {
        "id": "view-in-github",
        "colab_type": "text"
      },
      "source": [
        "<a href=\"https://colab.research.google.com/github/WDEricson/Projects/blob/main/Topographic.ipynb\" target=\"_parent\"><img src=\"https://colab.research.google.com/assets/colab-badge.svg\" alt=\"Open In Colab\"/></a>"
      ]
    },
    {
      "cell_type": "code",
      "metadata": {
        "colab": {
          "base_uri": "https://localhost:8080/"
        },
        "id": "GZkAWTKDkFJv",
        "outputId": "4a29346b-99df-4352-feb4-fb73bfba5a93"
      },
      "source": [
        "w = data=int(input(\"Enter desired map width:\"))\n",
        "h = data=int(input(\"Enter desired map height:\"))\n",
        "i = data=int(input(\"What incline does the map have:\"))\n",
        "d = data=int(input(\"Direction of ascent (N=1, S=2, E=3, W=4):\"))\n",
        "\n",
        "if d==1:\n",
        "  for h in range(h*i,0,-1*i):\n",
        "    print()\n",
        "    for line in range(w):\n",
        "      print(h, end=\" \")\n",
        "\n",
        "\n",
        "elif d==2:\n",
        "  for h in range(i,h*i+i,i):\n",
        "    print()\n",
        "    for line in range(w):\n",
        "      print(h, end=\" \")\n",
        "\n",
        "elif d==3:\n",
        "  for line in range(h):\n",
        "    print()\n",
        "    for w1 in range(i, w*i+i,i):\n",
        "      print(w1, end=\" \")\n",
        "\n",
        "elif d==4:\n",
        "  for line in range(h):\n",
        "    print()\n",
        "    for w2 in range(w*i,0,-1*i):\n",
        "      print(w2,end=\" \")\n",
        "    \n"
      ],
      "execution_count": 1,
      "outputs": [
        {
          "output_type": "stream",
          "name": "stdout",
          "text": [
            "Enter desired map width:5\n",
            "Enter desired map height:5\n",
            "What incline does the map have:4\n",
            "Direction of ascent (N=1, S=2, E=3, W=4):1\n",
            "\n",
            "20 20 20 20 20 \n",
            "16 16 16 16 16 \n",
            "12 12 12 12 12 \n",
            "8 8 8 8 8 \n",
            "4 4 4 4 4 "
          ]
        }
      ]
    }
  ]
}