{
  "nbformat": 4,
  "nbformat_minor": 0,
  "metadata": {
    "colab": {
      "provenance": []
    },
    "kernelspec": {
      "name": "python3",
      "display_name": "Python 3"
    }
  },
  "cells": [
    {
      "cell_type": "code",
      "metadata": {
        "colab": {
          "base_uri": "https://localhost:8080/"
        },
        "id": "qGX32x4fgMk4",
        "outputId": "0e27e243-e525-48df-d152-5d7306544c3b"
      },
      "source": [
        "import math\n",
        "T = float(input('Enter the temperature, degrees F:  '))\n",
        "RH = float(input('Enter relative humidity, percent: '))\n",
        "HI = -42.379 + 2.04901523*T + 10.14333127*RH - .22475541*T*RH-.00683783*T*T-.05481717*RH*RH+ .00122874*T*T*RH+.00085282*T*RH*RH-.00000199*T*T*RH*RH\n",
        "A1=((13-RH)/4)*math.sqrt((17-abs(T-95))/17)\n",
        "A2=((RH-85)/10)*((87-T)/5)\n",
        "HI2=0.5*(T+61+((T-68)*1.2)+(RH*0.094))\n",
        "if RH<13 and 80<T<120:\n",
        "  print(round(HI-A1), \"degrees F\")\n",
        "if RH>85 and 80<T<87:\n",
        "  print(round(HI+A2), 'degrees F')\n",
        "if T<80:\n",
        "  print(round(HI2), 'degrees F')\n",
        "print(round(HI),\"degrees F\" )"
      ],
      "execution_count": null,
      "outputs": [
        {
          "output_type": "stream",
          "name": "stdout",
          "text": [
            "Enter the temperature, degrees F:  100\n",
            "Enter relative humidity, percent: 50\n",
            "118 degrees F\n"
          ]
        }
      ]
    },
    {
      "cell_type": "code",
      "metadata": {
        "colab": {
          "base_uri": "https://localhost:8080/"
        },
        "id": "WWKl_IpOROqz",
        "outputId": "48e62e85-37fa-4c7b-b749-7fb3b8712cd5"
      },
      "source": [
        "import math\n",
        "T = float(input('Enter the temperature, degrees F:  '))\n",
        "RH = float(input('Enter relative humidity, percent: '))\n",
        "HI=0.5*(T+61 + ((T-68)*1.2)+(RH*.094))\n",
        "HI_orig=-42.379 + 2.04901523*T + 10.14333127*RH - .22475541*T*RH-.00683783*T*T-.05481717*RH*RH+ .00122874*T*T*RH+.00085282*T*RH*RH-.00000199*T*T*RH*RH \n",
        "\n",
        "\n",
        "if ((HI+T)/2)<80:\n",
        "  print(round(((HI+T)/2)), 'F')\n",
        "else:\n",
        "  print(round(HI_orig), 'F')\n"
      ],
      "execution_count": null,
      "outputs": [
        {
          "output_type": "stream",
          "name": "stdout",
          "text": [
            "Enter the temperature, degrees F:  100\n",
            "Enter relative humidity, percent: 50\n",
            "118 F\n"
          ]
        }
      ]
    },
    {
      "cell_type": "code",
      "metadata": {
        "colab": {
          "base_uri": "https://localhost:8080/"
        },
        "id": "fKzi4Zr8ViqY",
        "outputId": "7a76be28-b968-4afe-caea-bc743a1afa5f"
      },
      "source": [
        "import math\n",
        "#allow operater to define the variables for the individual problem\n",
        "T = float(input('Enter the temperature, degrees F:  '))\n",
        "RH = float(input('Enter relative humidity, percent: '))\n",
        "#define Steadman's Heat Index Equation with the temperature and relative humbidity\n",
        "def steadman(T, RH):\n",
        "    return 0.5*(T+61 + ((T-68)*1.2)+(RH*.094))\n",
        "#deifne Rothfusz's Heat Index Eqauation with the temperature and relative humidity\n",
        "def rothfusz(T, RH):\n",
        "    return -42.379 + 2.04901523*T + 10.14333127*RH - .22475541*T*RH-.00683783*T*T-.05481717*RH*RH+ .00122874*T*T*RH+.00085282*T*RH*RH-.00000199*T*T*RH*RH \n",
        "#if-else statement to determine which equation to call depending on the variables\n",
        "#determined by the operation\n",
        "#Then print and round the calculated Fharenheit value.\n",
        "if ((steadman(T, RH)+T)/2)<80:\n",
        "  print(round(steadman(T, RH)), 'F')\n",
        "else:\n",
        "  print(round(rothfusz(T, RH)), 'F')\n"
      ],
      "execution_count": null,
      "outputs": [
        {
          "output_type": "stream",
          "name": "stdout",
          "text": [
            "Enter the temperature, degrees F:  50\n",
            "Enter relative humidity, percent: 100\n",
            "49 F\n"
          ]
        }
      ]
    },
    {
      "cell_type": "code",
      "metadata": {
        "colab": {
          "base_uri": "https://localhost:8080/",
          "height": 294
        },
        "id": "prGMd7l4ZaJv",
        "outputId": "81661458-cb10-40a5-a14f-533cf38ef198"
      },
      "source": [
        "35#Alow user to define the lengths of the three sides\n",
        "import math\n",
        "L1=float((input('Length A   ')))\n",
        "L2=float((input('Length B   ')))\n",
        "L3=float((input('Length C   ')))\n",
        "#convert the variables into integers\n",
        "int(L1)\n",
        "int(L2)\n",
        "int(L3)\n",
        "#define the eqaution to calculate potential for a triangle with the three sides\n",
        "def is_triangle(L1,L2,L3):\n",
        "  return (((L1+L2+L3)-max(L1,L2,L3)))>(max(L1,L2,L3))\n",
        "print(\" \") \n",
        "print(\" \") \n",
        "print(\"Is it a Triangle?\")\n",
        "#If the defined eqution is true then the sides can be made into a triangle,\n",
        "#answer yes\n",
        "if is_triangle(L1,L2,L3) == True:\n",
        "  print(\"yes\")\n",
        "#Otherwise the sides cannot be made into a traingle, answer no\n",
        "else:\n",
        "  print(\"no\")\n"
      ],
      "execution_count": null,
      "outputs": [
        {
          "name": "stdout",
          "output_type": "stream",
          "text": [
            "Length A   5\n",
            "Length B   4\n",
            "Length C   \n"
          ]
        },
        {
          "output_type": "error",
          "ename": "ValueError",
          "evalue": "ignored",
          "traceback": [
            "\u001b[0;31m---------------------------------------------------------------------------\u001b[0m",
            "\u001b[0;31mValueError\u001b[0m                                Traceback (most recent call last)",
            "\u001b[0;32m<ipython-input-6-44cb0d4e962f>\u001b[0m in \u001b[0;36m<module>\u001b[0;34m\u001b[0m\n\u001b[1;32m      3\u001b[0m \u001b[0mL1\u001b[0m\u001b[0;34m=\u001b[0m\u001b[0mfloat\u001b[0m\u001b[0;34m(\u001b[0m\u001b[0;34m(\u001b[0m\u001b[0minput\u001b[0m\u001b[0;34m(\u001b[0m\u001b[0;34m'Length A   '\u001b[0m\u001b[0;34m)\u001b[0m\u001b[0;34m)\u001b[0m\u001b[0;34m)\u001b[0m\u001b[0;34m\u001b[0m\u001b[0;34m\u001b[0m\u001b[0m\n\u001b[1;32m      4\u001b[0m \u001b[0mL2\u001b[0m\u001b[0;34m=\u001b[0m\u001b[0mfloat\u001b[0m\u001b[0;34m(\u001b[0m\u001b[0;34m(\u001b[0m\u001b[0minput\u001b[0m\u001b[0;34m(\u001b[0m\u001b[0;34m'Length B   '\u001b[0m\u001b[0;34m)\u001b[0m\u001b[0;34m)\u001b[0m\u001b[0;34m)\u001b[0m\u001b[0;34m\u001b[0m\u001b[0;34m\u001b[0m\u001b[0m\n\u001b[0;32m----> 5\u001b[0;31m \u001b[0mL3\u001b[0m\u001b[0;34m=\u001b[0m\u001b[0mfloat\u001b[0m\u001b[0;34m(\u001b[0m\u001b[0;34m(\u001b[0m\u001b[0minput\u001b[0m\u001b[0;34m(\u001b[0m\u001b[0;34m'Length C   '\u001b[0m\u001b[0;34m)\u001b[0m\u001b[0;34m)\u001b[0m\u001b[0;34m)\u001b[0m\u001b[0;34m\u001b[0m\u001b[0;34m\u001b[0m\u001b[0m\n\u001b[0m\u001b[1;32m      6\u001b[0m \u001b[0;31m#convert the variables into integers\u001b[0m\u001b[0;34m\u001b[0m\u001b[0;34m\u001b[0m\u001b[0;34m\u001b[0m\u001b[0m\n\u001b[1;32m      7\u001b[0m \u001b[0mint\u001b[0m\u001b[0;34m(\u001b[0m\u001b[0mL1\u001b[0m\u001b[0;34m)\u001b[0m\u001b[0;34m\u001b[0m\u001b[0;34m\u001b[0m\u001b[0m\n",
            "\u001b[0;31mValueError\u001b[0m: could not convert string to float: ''"
          ]
        }
      ]
    }
  ]
}